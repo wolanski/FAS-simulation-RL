{
 "cells": [
  {
   "cell_type": "code",
   "execution_count": 1,
   "metadata": {},
   "outputs": [],
   "source": [
    "from modules.process.production_line import ProductionLine\n",
    "pd = ProductionLine()"
   ]
  },
  {
   "cell_type": "code",
   "execution_count": 2,
   "metadata": {},
   "outputs": [
    {
     "data": {
      "text/plain": [
       "['3',\n",
       " '',\n",
       " '',\n",
       " 'waiting',\n",
       " 0,\n",
       " 'waiting',\n",
       " 0,\n",
       " 'waiting',\n",
       " 0,\n",
       " 'waiting',\n",
       " 0,\n",
       " 'waiting',\n",
       " 0,\n",
       " 'waiting',\n",
       " 0,\n",
       " 'waiting',\n",
       " 0,\n",
       " 'waiting',\n",
       " 0,\n",
       " 'waiting',\n",
       " 0,\n",
       " 'waiting',\n",
       " 0,\n",
       " 'waiting',\n",
       " 0,\n",
       " 'waiting',\n",
       " 0,\n",
       " 'waiting',\n",
       " 0,\n",
       " 'waiting',\n",
       " 0,\n",
       " 'waiting',\n",
       " 0,\n",
       " 'waiting',\n",
       " 0,\n",
       " 'waiting',\n",
       " 0,\n",
       " 'waiting',\n",
       " 0,\n",
       " 'waiting',\n",
       " 0,\n",
       " 'waiting',\n",
       " 'waiting',\n",
       " 'waiting',\n",
       " 'waiting',\n",
       " 'waiting',\n",
       " 'waiting',\n",
       " 'waiting',\n",
       " 'waiting',\n",
       " 'waiting',\n",
       " 'waiting',\n",
       " 'waiting']"
      ]
     },
     "execution_count": 2,
     "metadata": {},
     "output_type": "execute_result"
    }
   ],
   "source": [
    "pd.reset()"
   ]
  },
  {
   "cell_type": "code",
   "execution_count": 10,
   "metadata": {},
   "outputs": [
    {
     "name": "stdout",
     "output_type": "stream",
     "text": [
      "CRANE1: wait\n",
      "CRANE1: item_taken\n",
      "CRANE1: go_back\n"
     ]
    },
    {
     "data": {
      "text/plain": [
       "['3',\n",
       " '',\n",
       " '',\n",
       " 'waiting',\n",
       " 0,\n",
       " 'waiting',\n",
       " 0,\n",
       " 'waiting',\n",
       " 0,\n",
       " 'waiting',\n",
       " 0,\n",
       " 'waiting',\n",
       " 0,\n",
       " 'waiting',\n",
       " 0,\n",
       " 'waiting',\n",
       " 0,\n",
       " 'waiting',\n",
       " 0,\n",
       " 'waiting',\n",
       " 0,\n",
       " 'waiting',\n",
       " 0,\n",
       " 'waiting',\n",
       " 0,\n",
       " 'waiting',\n",
       " 0,\n",
       " 'waiting',\n",
       " 0,\n",
       " 'waiting',\n",
       " 0,\n",
       " 'waiting',\n",
       " 0,\n",
       " 'waiting',\n",
       " 0,\n",
       " 'waiting',\n",
       " 0,\n",
       " 'waiting',\n",
       " 0,\n",
       " 'waiting',\n",
       " 0,\n",
       " 'waiting',\n",
       " 'waiting',\n",
       " 'waiting',\n",
       " 'waiting',\n",
       " 'waiting',\n",
       " 'waiting',\n",
       " 'waiting',\n",
       " 'waiting',\n",
       " 'waiting',\n",
       " 'waiting',\n",
       " 'waiting']"
      ]
     },
     "execution_count": 10,
     "metadata": {},
     "output_type": "execute_result"
    }
   ],
   "source": [
    "pd.step()"
   ]
  },
  {
   "cell_type": "code",
   "execution_count": 8,
   "metadata": {},
   "outputs": [
    {
     "ename": "AttributeError",
     "evalue": "'ProductionLine' object has no attribute 'get_resource_states'",
     "output_type": "error",
     "traceback": [
      "\u001b[0;31m---------------------------------------------------------------------------\u001b[0m",
      "\u001b[0;31mAttributeError\u001b[0m                            Traceback (most recent call last)",
      "Cell \u001b[0;32mIn [8], line 1\u001b[0m\n\u001b[0;32m----> 1\u001b[0m states \u001b[39m=\u001b[39m pd\u001b[39m.\u001b[39;49mget_resource_states()\n",
      "\u001b[0;31mAttributeError\u001b[0m: 'ProductionLine' object has no attribute 'get_resource_states'"
     ]
    }
   ],
   "source": [
    "states = pd.get_resource_states()"
   ]
  },
  {
   "cell_type": "code",
   "execution_count": 11,
   "metadata": {},
   "outputs": [
    {
     "data": {
      "text/plain": [
       "{'CONVEYOR1': {'status': 'waiting', 'queue': 0},\n",
       " 'CONVEYOR2': {'status': 'waiting', 'queue': 0},\n",
       " 'CONVEYOR3': {'status': 'waiting', 'queue': 0},\n",
       " 'CONVEYOR4': {'status': 'waiting', 'queue': 0},\n",
       " 'CONVEYOR5': {'status': 'waiting', 'queue': 0},\n",
       " 'CONVEYOR6': {'status': 'waiting', 'queue': 0},\n",
       " 'CONVEYOR7': {'status': 'waiting', 'queue': 0},\n",
       " 'CONVEYOR8': {'status': 'waiting', 'queue': 0},\n",
       " 'CONVEYOR9': {'status': 'waiting', 'queue': 0},\n",
       " 'CONVEYOR10': {'status': 'waiting', 'queue': 0},\n",
       " 'CONVEYOR11': {'status': 'waiting', 'queue': 0},\n",
       " 'CONVEYOR_INPUT_SUBASSEMBLY_B': {'status': 'waiting', 'queue': 0},\n",
       " 'CONVEYOR_INPUT_SUBASSEMBLY_C': {'status': 'waiting', 'queue': 0},\n",
       " 'BOWL1': {'status': 'waiting', 'queue': 0},\n",
       " 'BOWL2': {'status': 'waiting', 'queue': 0},\n",
       " 'BOWL3': {'status': 'waiting', 'queue': 0},\n",
       " 'BOWL4': {'status': 'waiting', 'queue': 0},\n",
       " 'CRANE1': {'status': 'waiting', 'queue': 0},\n",
       " 'CRANE_INPUT_SUBASSEMBLY_A': {'status': 'waiting', 'queue': 0},\n",
       " 'MANUAL_INSPECTION': {'status': 'waiting'},\n",
       " 'MANUAL_ADD_COMPONENTS1': {'status': 'waiting'},\n",
       " 'MANUAL_ADD_COMPONENTS2': {'status': 'waiting'},\n",
       " 'MANUAL_COMBINE_SUBASSEMBLY_A': {'status': 'waiting'},\n",
       " 'MANUAL_COMBINE_SUBASSEMBLY_B': {'status': 'waiting'},\n",
       " 'MANUAL_ADD_COVER_AND_BOLTS': {'status': 'waiting'},\n",
       " 'MANUAL_TIGHTEN_BOLTS1': {'status': 'waiting'},\n",
       " 'MANUAL_COMBINE_SUBASSEMBLY_C': {'status': 'waiting'},\n",
       " 'MANUAL_TIGHTEN_BOLTS2': {'status': 'waiting'},\n",
       " 'MANUAL_ADD_COMPONENTS3': {'status': 'waiting'},\n",
       " 'MANUAL_TIGHTEN_BOLTS3': {'status': 'waiting'}}"
      ]
     },
     "execution_count": 11,
     "metadata": {},
     "output_type": "execute_result"
    }
   ],
   "source": [
    "states"
   ]
  },
  {
   "cell_type": "code",
   "execution_count": 6,
   "metadata": {},
   "outputs": [],
   "source": [
    "obs = pd.get_observations()"
   ]
  },
  {
   "cell_type": "code",
   "execution_count": null,
   "metadata": {},
   "outputs": [],
   "source": [
    "obs"
   ]
  },
  {
   "cell_type": "code",
   "execution_count": 2,
   "metadata": {},
   "outputs": [
    {
     "data": {
      "text/plain": [
       "52"
      ]
     },
     "execution_count": 2,
     "metadata": {},
     "output_type": "execute_result"
    }
   ],
   "source": [
    "pd.observation_size"
   ]
  },
  {
   "cell_type": "code",
   "execution_count": 9,
   "metadata": {},
   "outputs": [
    {
     "data": {
      "text/plain": [
       "{'prod_volume_instant': '3', 'Prod_volume_accum': '', 'last_maintannance': ''}"
      ]
     },
     "execution_count": 9,
     "metadata": {},
     "output_type": "execute_result"
    }
   ],
   "source": [
    "pd.line_states"
   ]
  },
  {
   "cell_type": "code",
   "execution_count": null,
   "metadata": {},
   "outputs": [],
   "source": []
  }
 ],
 "metadata": {
  "kernelspec": {
   "display_name": "Python 3.10.4 64-bit",
   "language": "python",
   "name": "python3"
  },
  "language_info": {
   "codemirror_mode": {
    "name": "ipython",
    "version": 3
   },
   "file_extension": ".py",
   "mimetype": "text/x-python",
   "name": "python",
   "nbconvert_exporter": "python",
   "pygments_lexer": "ipython3",
   "version": "3.10.4"
  },
  "orig_nbformat": 4,
  "vscode": {
   "interpreter": {
    "hash": "3ad933181bd8a04b432d3370b9dc3b0662ad032c4dfaa4e4f1596c548f763858"
   }
  }
 },
 "nbformat": 4,
 "nbformat_minor": 2
}
