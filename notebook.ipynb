{
 "cells": [
  {
   "cell_type": "code",
   "execution_count": 5,
   "metadata": {},
   "outputs": [
    {
     "name": "stderr",
     "output_type": "stream",
     "text": [
      "Bad pipe message: %s [b'\\xa7E)4\\x8bb\\xef\\xaa\\x13IVWz\\xfe\\x02e\\xd7\\x9f \\x86K\\xe9(\\xa7*\\xac\\xb5\\xb4\\xc1\\xe1\\x82JU\\xe0]]09\\xb8C\\xbf\\x08\\x8ewn\\xe0\\x1a@\\x17Ar\\x00\\x08\\x13\\x02\\x13\\x03\\x13\\x01\\x00\\xff\\x01\\x00\\x00\\x8f\\x00\\x00\\x00\\x0e\\x00\\x0c\\x00\\x00\\t127.0.0.1\\x00\\x0b\\x00\\x04\\x03\\x00\\x01\\x02\\x00\\n\\x00\\x0c\\x00\\n\\x00\\x1d\\x00\\x17\\x00\\x1e\\x00\\x19\\x00\\x18\\x00#\\x00\\x00\\x00\\x16']\n",
      "Bad pipe message: %s [b'\\xc8V\\xf0\\x85\\xe9<~\\xf3G3\\xc8\\xa1u\\x10\\xd0\\x18q\\xfb =l\\x9bv\\x10m\\xba\\x9d\\xf4p$\\x97\\x0f\\xa0\\xb4)R\\xc2\\x86+\\x01\\xecv\\x1d\\xe3\\x01\\x17\\xb1;\\x0eN\\xdf\\x00\\x08\\x13\\x02\\x13\\x03\\x13\\x01\\x00\\xff\\x01\\x00\\x00\\x8f\\x00\\x00\\x00\\x0e\\x00\\x0c\\x00\\x00\\t127.0.0.1\\x00\\x0b\\x00\\x04\\x03\\x00\\x01\\x02\\x00\\n\\x00\\x0c\\x00\\n\\x00\\x1d\\x00\\x17\\x00\\x1e\\x00\\x19\\x00\\x18\\x00#\\x00\\x00\\x00\\x16\\x00\\x00\\x00\\x17\\x00\\x00\\x00\\r\\x00\\x1e\\x00\\x1c\\x04\\x03\\x05\\x03\\x06\\x03\\x08\\x07\\x08\\x08\\x08\\t\\x08\\n\\x08\\x0b\\x08\\x04\\x08\\x05\\x08\\x06\\x04\\x01\\x05\\x01\\x06\\x01\\x00+\\x00\\x03\\x02\\x03\\x04\\x00-\\x00\\x02\\x01\\x01\\x003']\n",
      "Bad pipe message: %s [b'\\xb3\\x85\\x83\\xbff\\xa9\\xc2\\xdc@G\\xd9\\xf4\\x9a\\x87\\xb1hZ\\xe0\\x00\\x00|\\xc0,\\xc00\\x00\\xa3\\x00\\x9f\\xcc\\xa9\\xcc\\xa8\\xcc\\xaa\\xc0\\xaf\\xc0\\xad', b\"\\xc0\\x9f\\xc0]\\xc0a\\xc0W\\xc0S\\xc0+\\xc0/\\x00\\xa2\\x00\\x9e\\xc0\\xae\\xc0\\xac\\xc0\\xa2\\xc0\\x9e\\xc0\\\\\\xc0`\\xc0V\\xc0R\\xc0$\\xc0(\\x00k\\x00j\\xc0#\\xc0'\\x00g\\x00@\\xc0\\n\\xc0\\x14\\x009\\x008\\xc0\\t\\xc0\\x13\\x003\\x002\\x00\\x9d\\xc0\\xa1\\xc0\\x9d\\xc0Q\\x00\\x9c\\xc0\\xa0\\xc0\\x9c\\xc0P\\x00=\\x00<\\x005\\x00/\\x00\\x9a\\x00\\x99\\xc0\\x07\\xc0\\x11\\x00\\x96\\x00\\x05\\x00\\xff\\x01\\x00\\x00j\\x00\\x00\\x00\\x0e\\x00\\x0c\\x00\\x00\\t127.0.0.1\\x00\\x0b\\x00\\x04\\x03\\x00\\x01\\x02\\x00\\n\\x00\\x0c\\x00\\n\\x00\\x1d\\x00\\x17\\x00\\x1e\\x00\\x19\\x00\\x18\\x00#\\x00\\x00\\x00\\x16\\x00\\x00\\x00\\x17\\x00\\x00\\x00\\r\\x000\\x00.\\x04\\x03\\x05\\x03\\x06\\x03\\x08\\x07\\x08\\x08\\x08\\t\\x08\\n\\x08\\x0b\\x08\\x04\\x08\\x05\\x08\\x06\\x04\", b'', b'']\n",
      "Bad pipe message: %s [b'', b'\\x03\\x03']\n",
      "Bad pipe message: %s [b'']\n",
      "Bad pipe message: %s [b'', b'\\x02']\n",
      "Bad pipe message: %s [b'\\x05\\x02\\x06']\n",
      "Bad pipe message: %s [b'f|\\x86B`/\\xbb\\xceF\\xdf._b:\\xb5?\\x85_\\x00\\x00>\\xc0\\x14\\xc0\\n\\x009\\x008\\x007\\x006\\xc0\\x0f\\xc0\\x05\\x005\\xc0\\x13\\xc0\\t\\x003\\x002\\x001\\x000\\xc0\\x0e\\xc0\\x04\\x00/\\x00\\x9a\\x00\\x99\\x00\\x98\\x00\\x97\\x00\\x96\\x00\\x07\\xc0\\x11\\xc0\\x07\\xc0\\x0c\\xc0\\x02\\x00\\x05\\x00\\x04\\x00\\xff\\x02\\x01\\x00\\x00C\\x00\\x00\\x00\\x0e\\x00\\x0c\\x00\\x00\\t127.0.0.1\\x00\\x0b\\x00\\x04\\x03\\x00\\x01\\x02\\x00']\n",
      "Bad pipe message: %s [b'\\x1c\\x00\\x1a\\x00\\x17\\x00\\x19\\x00\\x1c']\n",
      "Bad pipe message: %s [b'\\xe8\\x02\\xd9\\x05Cu\\xdb\\x07\\x96m\\x1e|\\xe8]\\xba4\\xff\\xf2\\x00\\x00\\xa2\\xc0\\x14\\xc0\\n\\x009\\x008\\x007\\x006\\x00\\x88\\x00\\x87\\x00\\x86\\x00\\x85\\xc0\\x19\\x00:\\x00\\x89\\xc0\\x0f\\xc0\\x05\\x005\\x00\\x84\\xc0\\x13\\xc0\\t\\x003\\x002\\x001\\x000\\x00\\x9a\\x00\\x99\\x00\\x98\\x00\\x97\\x00E\\x00D\\x00C\\x00B\\xc0\\x18\\x004\\x00\\x9b\\x00F\\xc0\\x0e\\xc0\\x04\\x00/\\x00\\x96\\x00A\\x00\\x07\\xc0\\x11\\xc0\\x07\\xc0\\x16\\x00\\x18\\xc0\\x0c\\xc0\\x02\\x00\\x05\\x00\\x04\\xc0\\x12\\xc0\\x08\\x00\\x16\\x00\\x13\\x00\\x10\\x00\\r\\xc0\\x17\\x00\\x1b\\xc0\\r\\xc0\\x03\\x00\\n\\x00\\x15\\x00\\x12\\x00\\x0f\\x00\\x0c\\x00\\x1a\\x00\\t\\x00\\x14\\x00\\x11\\x00\\x19\\x00']\n",
      "Bad pipe message: %s [b'\\x06\\x00\\x17\\x00\\x03\\xc0\\x10']\n",
      "Bad pipe message: %s [b'\\xef\\xe5', b\"\\xee\\x91'\\xbbUX\\x95],\\xd9[nN\\xcd\\x00\\x00>\\xc0\\x14\\xc0\\n\\x009\\x008\\x007\\x006\\xc0\\x0f\\xc0\\x05\\x005\\xc0\\x13\\xc0\\t\\x003\\x002\\x001\\x000\\xc0\\x0e\\xc0\\x04\\x00/\\x00\\x9a\\x00\\x99\\x00\\x98\\x00\\x97\\x00\\x96\\x00\\x07\\xc0\\x11\\xc0\\x07\\xc0\\x0c\\xc0\\x02\\x00\\x05\\x00\\x04\\x00\\xff\\x02\\x01\\x00\\x00C\\x00\\x00\\x00\\x0e\\x00\\x0c\\x00\\x00\\t127.0.0.1\\x00\\x0b\\x00\\x04\\x03\\x00\\x01\\x02\\x00\\n\\x00\\x1c\\x00\\x1a\\x00\\x17\\x00\\x19\\x00\"]\n",
      "Bad pipe message: %s [b'\\x1b\\x00\\x18\\x00\\x1a\\x00\\x16\\x00\\x0e\\x00\\r\\x00\\x0b\\x00\\x0c\\x00\\t\\x00\\n\\x00#\\x00\\x00\\x00\\x0f\\x00\\x01']\n",
      "Bad pipe message: %s [b'\\xe7\\x87(\\x85\\xb0\\xcd\\x03x0\\xf3)\\xbfd\\nZ\\xe8\\x02\\xbc\\x00\\x00\\xa2\\xc0\\x14\\xc0\\n\\x009\\x008\\x007\\x006\\x00', b'\\x87\\x00\\x86\\x00\\x85\\xc0\\x19\\x00:\\x00\\x89\\xc0\\x0f\\xc0\\x05\\x005\\x00\\x84\\xc0\\x13\\xc0\\t\\x003\\x002\\x001\\x000\\x00\\x9a\\x00\\x99\\x00\\x98\\x00\\x97\\x00E\\x00D\\x00C\\x00B\\xc0\\x18\\x004\\x00\\x9b\\x00F\\xc0\\x0e\\xc0\\x04\\x00/\\x00\\x96\\x00A\\x00\\x07\\xc0\\x11\\xc0\\x07\\xc0\\x16\\x00\\x18\\xc0\\x0c\\xc0\\x02\\x00\\x05\\x00\\x04\\xc0\\x12\\xc0\\x08\\x00\\x16\\x00\\x13\\x00\\x10\\x00\\r\\xc0\\x17\\x00\\x1b\\xc0\\r\\xc0\\x03\\x00\\n\\x00\\x15\\x00\\x12\\x00\\x0f\\x00\\x0c\\x00\\x1a\\x00\\t\\x00\\x14\\x00\\x11\\x00\\x19\\x00\\x08\\x00\\x06\\x00\\x17\\x00\\x03\\xc0\\x10\\xc0\\x06']\n",
      "Bad pipe message: %s [b\"\\xe9\\xb0\\x87\\xd5j\\xc74\\x1a6\\xba\\xa9\\x839b\\xcaR+\\xcb\\x00\\x00\\x86\\xc00\\xc0,\\xc0(\\xc0$\\xc0\\x14\\xc0\\n\\x00\\xa5\\x00\\xa3\\x00\\xa1\\x00\\x9f\\x00k\\x00j\\x00i\\x00h\\x009\\x008\\x007\\x006\\xc02\\xc0.\\xc0*\\xc0&\\xc0\\x0f\\xc0\\x05\\x00\\x9d\\x00=\\x005\\xc0/\\xc0+\\xc0'\\xc0#\\xc0\\x13\\xc0\\t\\x00\\xa4\\x00\\xa2\\x00\\xa0\\x00\\x9e\\x00g\\x00@\\x00?\\x00>\\x003\\x002\\x001\\x000\\xc01\\xc0-\\xc0)\\xc0%\\xc0\\x0e\\xc0\\x04\\x00\\x9c\\x00<\\x00/\\x00\\x9a\\x00\\x99\\x00\\x98\\x00\\x97\\x00\\x96\\x00\\x07\\xc0\\x11\\xc0\\x07\\xc0\\x0c\\xc0\\x02\\x00\\x05\\x00\\x04\\x00\\xff\\x02\\x01\\x00\\x00g\\x00\\x00\\x00\\x0e\\x00\\x0c\\x00\\x00\\t127.0.0.1\\x00\\x0b\\x00\\x04\\x03\\x00\\x01\\x02\\x00\\n\\x00\\x1c\\x00\\x1a\\x00\\x17\\x00\"]\n",
      "Bad pipe message: %s [b'\\x1c\\x00\\x1b\\x00\\x18\\x00\\x1a\\x00\\x16\\x00\\x0e\\x00\\r\\x00\\x0b\\x00\\x0c\\x00\\t\\x00\\n\\x00#\\x00']\n",
      "Bad pipe message: %s [b\"\\xdfv\\xad\\xa4c\\x8e\\xf3u\\xb7G\\xa5\\xfc9p\\xca\\x8e\\xd5f\\x00\\x00\\xf4\\xc00\\xc0,\\xc0(\\xc0$\\xc0\\x14\\xc0\\n\\x00\\xa5\\x00\\xa3\\x00\\xa1\\x00\\x9f\\x00k\\x00j\\x00i\\x00h\\x009\\x008\\x007\\x006\\x00\\x88\\x00\\x87\\x00\\x86\\x00\\x85\\xc0\\x19\\x00\\xa7\\x00m\\x00:\\x00\\x89\\xc02\\xc0.\\xc0*\\xc0&\\xc0\\x0f\\xc0\\x05\\x00\\x9d\\x00=\\x005\\x00\\x84\\xc0/\\xc0+\\xc0'\\xc0#\\xc0\\x13\\xc0\\t\\x00\\xa4\\x00\\xa2\\x00\\xa0\\x00\\x9e\\x00g\\x00@\\x00?\\x00>\\x003\\x002\\x001\\x000\\x00\\x9a\\x00\\x99\\x00\\x98\\x00\\x97\\x00E\\x00D\\x00C\\x00B\\xc0\\x18\\x00\\xa6\\x00l\\x004\\x00\\x9b\\x00F\\xc01\\xc0-\\xc0)\\xc0%\\xc0\\x0e\\xc0\\x04\\x00\\x9c\\x00<\\x00/\\x00\\x96\\x00A\\x00\\x07\\xc0\\x11\\xc0\\x07\\xc0\\x16\\x00\\x18\\xc0\\x0c\\xc0\\x02\\x00\\x05\\x00\\x04\\xc0\\x12\\xc0\\x08\\x00\\x16\\x00\\x13\\x00\\x10\\x00\\r\\xc0\\x17\\x00\\x1b\\xc0\\r\\xc0\\x03\\x00\\n\\x00\\x15\\x00\\x12\\x00\\x0f\\x00\\x0c\"]\n"
     ]
    }
   ],
   "source": [
    "from modules.process.production_line import ProductionLine\n",
    "pd = ProductionLine(debug=True)"
   ]
  },
  {
   "cell_type": "code",
   "execution_count": 2,
   "metadata": {},
   "outputs": [
    {
     "data": {
      "text/plain": [
       "[0, 0, 0, 0, 120, 0, 0, 0, 0, 0, 0]"
      ]
     },
     "execution_count": 2,
     "metadata": {},
     "output_type": "execute_result"
    }
   ],
   "source": [
    "pd.reset()"
   ]
  },
  {
   "cell_type": "code",
   "execution_count": 3,
   "metadata": {},
   "outputs": [
    {
     "name": "stdout",
     "output_type": "stream",
     "text": [
      "CONVEYOR1: input\n",
      "CONVEYOR1: to_next_step\n",
      "MANUAL_INSPECTION: input\n",
      "MANUAL_INSPECTION: process\n",
      "MANUAL_INSPECTION: ok\n",
      "MANUAL_INSPECTION: wait\n",
      "---PROCESS 1 COMPLETED---\n",
      "CONVEYOR1: input\n",
      "CONVEYOR1: to_next_step\n",
      "MANUAL_INSPECTION: input\n",
      "MANUAL_INSPECTION: process\n",
      "MANUAL_INSPECTION: ok\n",
      "MANUAL_INSPECTION: wait\n",
      "---PROCESS 2 COMPLETED---\n",
      "CONVEYOR1: input\n",
      "CONVEYOR1: to_next_step\n",
      "MANUAL_INSPECTION: input\n",
      "MANUAL_INSPECTION: process\n",
      "MANUAL_INSPECTION: ok\n",
      "MANUAL_INSPECTION: wait\n",
      "---PROCESS 3 COMPLETED---\n",
      "CONVEYOR1: input\n",
      "CONVEYOR1: to_next_step\n",
      "MANUAL_INSPECTION: input\n",
      "MANUAL_INSPECTION: process\n",
      "MANUAL_INSPECTION: ok\n",
      "MANUAL_INSPECTION: wait\n",
      "---PROCESS 4 COMPLETED---\n",
      "CONVEYOR1: input\n",
      "CONVEYOR1: to_next_step\n",
      "MANUAL_INSPECTION: input\n",
      "MANUAL_INSPECTION: process\n",
      "MANUAL_INSPECTION: ok\n",
      "MANUAL_INSPECTION: wait\n",
      "---PROCESS 5 COMPLETED---\n",
      "CONVEYOR1: input\n",
      "CONVEYOR1: to_next_step\n",
      "MANUAL_INSPECTION: input\n",
      "MANUAL_INSPECTION: process\n",
      "MANUAL_INSPECTION: ok\n",
      "MANUAL_INSPECTION: wait\n",
      "---PROCESS 6 COMPLETED---\n",
      "CONVEYOR1: input\n",
      "CONVEYOR1: to_next_step\n",
      "MANUAL_INSPECTION: input\n",
      "MANUAL_INSPECTION: process\n",
      "MANUAL_INSPECTION: ok\n",
      "MANUAL_INSPECTION: wait\n",
      "---PROCESS 7 COMPLETED---\n",
      "CONVEYOR1: input\n",
      "CONVEYOR1: to_next_step\n",
      "MANUAL_INSPECTION: input\n",
      "MANUAL_INSPECTION: process\n",
      "MANUAL_INSPECTION: ok\n",
      "MANUAL_INSPECTION: wait\n",
      "---PROCESS 8 COMPLETED---\n",
      "CONVEYOR1: input\n",
      "CONVEYOR1: to_next_step\n",
      "MANUAL_INSPECTION: input\n",
      "MANUAL_INSPECTION: process\n",
      "MANUAL_INSPECTION: ok\n",
      "MANUAL_INSPECTION: wait\n",
      "---PROCESS 9 COMPLETED---\n",
      "CONVEYOR1: input\n",
      "CONVEYOR1: to_next_step\n",
      "MANUAL_INSPECTION: input\n",
      "MANUAL_INSPECTION: process\n",
      "MANUAL_INSPECTION: ok\n",
      "MANUAL_INSPECTION: wait\n",
      "---PROCESS 10 COMPLETED---\n",
      "CONVEYOR1: input\n",
      "CONVEYOR1: to_next_step\n",
      "MANUAL_INSPECTION: input\n",
      "MANUAL_INSPECTION: process\n",
      "MANUAL_INSPECTION: ok\n",
      "MANUAL_INSPECTION: wait\n",
      "---PROCESS 11 COMPLETED---\n",
      "CONVEYOR1: input\n",
      "CONVEYOR1: to_next_step\n",
      "MANUAL_INSPECTION: input\n",
      "MANUAL_INSPECTION: process\n",
      "MANUAL_INSPECTION: ok\n",
      "MANUAL_INSPECTION: wait\n",
      "---PROCESS 12 COMPLETED---\n",
      "CONVEYOR1: input\n",
      "CONVEYOR1: to_next_step\n",
      "MANUAL_INSPECTION: input\n",
      "MANUAL_INSPECTION: process\n",
      "MANUAL_INSPECTION: ok\n",
      "MANUAL_INSPECTION: wait\n",
      "---PROCESS 13 COMPLETED---\n",
      "CONVEYOR1: input\n",
      "CONVEYOR1: to_next_step\n",
      "MANUAL_INSPECTION: input\n",
      "MANUAL_INSPECTION: process\n",
      "MANUAL_INSPECTION: ok\n",
      "MANUAL_INSPECTION: wait\n",
      "---PROCESS 14 COMPLETED---\n",
      "CONVEYOR1: input\n",
      "CONVEYOR1: to_next_step\n",
      "MANUAL_INSPECTION: input\n",
      "MANUAL_INSPECTION: process\n",
      "MANUAL_INSPECTION: ok\n",
      "MANUAL_INSPECTION: wait\n",
      "---PROCESS 15 COMPLETED---\n",
      "CONVEYOR1: input\n",
      "CONVEYOR1: to_next_step\n",
      "MANUAL_INSPECTION: input\n",
      "MANUAL_INSPECTION: process\n",
      "MANUAL_INSPECTION: ok\n",
      "MANUAL_INSPECTION: wait\n",
      "---PROCESS 16 COMPLETED---\n",
      "CONVEYOR1: input\n",
      "CONVEYOR1: to_next_step\n",
      "MANUAL_INSPECTION: input\n",
      "MANUAL_INSPECTION: process\n",
      "MANUAL_INSPECTION: ok\n",
      "MANUAL_INSPECTION: wait\n",
      "---PROCESS 17 COMPLETED---\n",
      "CONVEYOR1: input\n",
      "CONVEYOR1: to_next_step\n",
      "MANUAL_INSPECTION: input\n",
      "MANUAL_INSPECTION: process\n",
      "MANUAL_INSPECTION: ok\n",
      "MANUAL_INSPECTION: wait\n",
      "---PROCESS 18 COMPLETED---\n",
      "CONVEYOR1: input\n",
      "CONVEYOR1: to_next_step\n",
      "MANUAL_INSPECTION: input\n",
      "MANUAL_INSPECTION: process\n",
      "MANUAL_INSPECTION: ok\n",
      "MANUAL_INSPECTION: wait\n",
      "---PROCESS 19 COMPLETED---\n",
      "CONVEYOR1: input\n",
      "CONVEYOR1: to_next_step\n",
      "MANUAL_INSPECTION: input\n",
      "MANUAL_INSPECTION: process\n",
      "MANUAL_INSPECTION: ok\n",
      "MANUAL_INSPECTION: wait\n",
      "---PROCESS 20 COMPLETED---\n",
      "CONVEYOR1: input\n",
      "CONVEYOR1: to_next_step\n",
      "MANUAL_INSPECTION: input\n",
      "MANUAL_INSPECTION: process\n",
      "MANUAL_INSPECTION: ok\n",
      "MANUAL_INSPECTION: wait\n",
      "---PROCESS 21 COMPLETED---\n",
      "CONVEYOR1: input\n",
      "CONVEYOR1: to_next_step\n",
      "MANUAL_INSPECTION: input\n",
      "MANUAL_INSPECTION: process\n",
      "MANUAL_INSPECTION: ok\n",
      "MANUAL_INSPECTION: wait\n",
      "---PROCESS 22 COMPLETED---\n",
      "CONVEYOR1: input\n",
      "CONVEYOR1: to_next_step\n",
      "MANUAL_INSPECTION: input\n",
      "MANUAL_INSPECTION: process\n",
      "MANUAL_INSPECTION: ok\n",
      "MANUAL_INSPECTION: wait\n",
      "---PROCESS 23 COMPLETED---\n",
      "CONVEYOR1: input\n",
      "CONVEYOR1: to_next_step\n",
      "MANUAL_INSPECTION: input\n",
      "MANUAL_INSPECTION: process\n",
      "MANUAL_INSPECTION: ok\n",
      "MANUAL_INSPECTION: wait\n",
      "---PROCESS 24 COMPLETED---\n",
      "CONVEYOR1: input\n",
      "CONVEYOR1: to_next_step\n",
      "MANUAL_INSPECTION: input\n",
      "MANUAL_INSPECTION: process\n",
      "MANUAL_INSPECTION: ok\n",
      "MANUAL_INSPECTION: wait\n",
      "---PROCESS 25 COMPLETED---\n",
      "CONVEYOR1: input\n",
      "CONVEYOR1: to_next_step\n",
      "MANUAL_INSPECTION: input\n",
      "MANUAL_INSPECTION: process\n",
      "MANUAL_INSPECTION: ok\n",
      "MANUAL_INSPECTION: wait\n",
      "---PROCESS 26 COMPLETED---\n",
      "CONVEYOR1: input\n",
      "CONVEYOR1: to_next_step\n",
      "MANUAL_INSPECTION: input\n",
      "MANUAL_INSPECTION: process\n",
      "MANUAL_INSPECTION: ok\n",
      "MANUAL_INSPECTION: wait\n",
      "---PROCESS 27 COMPLETED---\n",
      "CONVEYOR1: input\n",
      "CONVEYOR1: to_next_step\n",
      "MANUAL_INSPECTION: input\n",
      "MANUAL_INSPECTION: process\n",
      "MANUAL_INSPECTION: ok\n",
      "MANUAL_INSPECTION: wait\n",
      "---PROCESS 28 COMPLETED---\n",
      "CONVEYOR1: input\n",
      "CONVEYOR1: to_next_step\n",
      "MANUAL_INSPECTION: input\n",
      "MANUAL_INSPECTION: process\n",
      "MANUAL_INSPECTION: ok\n",
      "MANUAL_INSPECTION: wait\n",
      "---PROCESS 29 COMPLETED---\n",
      "CONVEYOR1: input\n",
      "CONVEYOR1: to_next_step\n",
      "MANUAL_INSPECTION: input\n",
      "MANUAL_INSPECTION: process\n",
      "MANUAL_INSPECTION: ok\n",
      "MANUAL_INSPECTION: wait\n",
      "---PROCESS 30 COMPLETED---\n",
      "CONVEYOR1: input\n",
      "CONVEYOR1: to_next_step\n",
      "MANUAL_INSPECTION: input\n",
      "MANUAL_INSPECTION: process\n",
      "MANUAL_INSPECTION: ok\n",
      "MANUAL_INSPECTION: wait\n",
      "---PROCESS 31 COMPLETED---\n",
      "CONVEYOR1: input\n",
      "CONVEYOR1: to_next_step\n",
      "MANUAL_INSPECTION: input\n",
      "MANUAL_INSPECTION: process\n",
      "MANUAL_INSPECTION: ok\n",
      "MANUAL_INSPECTION: wait\n",
      "---PROCESS 32 COMPLETED---\n",
      "CONVEYOR1: input\n",
      "CONVEYOR1: to_next_step\n",
      "MANUAL_INSPECTION: input\n",
      "MANUAL_INSPECTION: process\n",
      "MANUAL_INSPECTION: ok\n",
      "MANUAL_INSPECTION: wait\n",
      "---PROCESS 33 COMPLETED---\n",
      "CONVEYOR1: input\n",
      "CONVEYOR1: to_next_step\n",
      "MANUAL_INSPECTION: input\n",
      "MANUAL_INSPECTION: process\n",
      "MANUAL_INSPECTION: ok\n",
      "MANUAL_INSPECTION: wait\n",
      "---PROCESS 34 COMPLETED---\n",
      "CONVEYOR1: input\n",
      "CONVEYOR1: to_next_step\n",
      "MANUAL_INSPECTION: input\n",
      "MANUAL_INSPECTION: process\n",
      "MANUAL_INSPECTION: ok\n",
      "MANUAL_INSPECTION: wait\n",
      "---PROCESS 35 COMPLETED---\n",
      "CONVEYOR1: input\n",
      "CONVEYOR1: to_next_step\n",
      "MANUAL_INSPECTION: input\n",
      "MANUAL_INSPECTION: process\n",
      "MANUAL_INSPECTION: ok\n",
      "MANUAL_INSPECTION: wait\n",
      "---PROCESS 36 COMPLETED---\n",
      "CONVEYOR1: input\n",
      "CONVEYOR1: to_next_step\n",
      "MANUAL_INSPECTION: input\n",
      "MANUAL_INSPECTION: process\n",
      "MANUAL_INSPECTION: ok\n",
      "MANUAL_INSPECTION: wait\n",
      "---PROCESS 37 COMPLETED---\n",
      "CONVEYOR1: input\n",
      "CONVEYOR1: to_next_step\n",
      "MANUAL_INSPECTION: input\n",
      "MANUAL_INSPECTION: process\n",
      "MANUAL_INSPECTION: ok\n",
      "MANUAL_INSPECTION: wait\n",
      "---PROCESS 38 COMPLETED---\n",
      "CONVEYOR1: input\n",
      "CONVEYOR1: to_next_step\n",
      "MANUAL_INSPECTION: input\n",
      "MANUAL_INSPECTION: process\n",
      "MANUAL_INSPECTION: ok\n",
      "MANUAL_INSPECTION: wait\n",
      "---PROCESS 39 COMPLETED---\n",
      "CONVEYOR1: input\n",
      "CONVEYOR1: to_next_step\n",
      "MANUAL_INSPECTION: input\n",
      "MANUAL_INSPECTION: process\n",
      "MANUAL_INSPECTION: ok\n",
      "MANUAL_INSPECTION: wait\n",
      "---PROCESS 40 COMPLETED---\n",
      "CONVEYOR1: input\n",
      "CONVEYOR1: to_next_step\n",
      "MANUAL_INSPECTION: input\n",
      "MANUAL_INSPECTION: process\n",
      "MANUAL_INSPECTION: ok\n",
      "MANUAL_INSPECTION: wait\n",
      "---PROCESS 41 COMPLETED---\n",
      "CONVEYOR1: input\n",
      "CONVEYOR1: to_next_step\n",
      "MANUAL_INSPECTION: input\n",
      "MANUAL_INSPECTION: process\n",
      "MANUAL_INSPECTION: ok\n",
      "MANUAL_INSPECTION: wait\n",
      "---PROCESS 42 COMPLETED---\n",
      "CONVEYOR1: input\n",
      "CONVEYOR1: to_next_step\n",
      "MANUAL_INSPECTION: input\n",
      "MANUAL_INSPECTION: process\n",
      "MANUAL_INSPECTION: ok\n",
      "MANUAL_INSPECTION: wait\n",
      "---PROCESS 43 COMPLETED---\n",
      "CONVEYOR1: input\n",
      "CONVEYOR1: to_next_step\n",
      "MANUAL_INSPECTION: input\n",
      "MANUAL_INSPECTION: process\n",
      "MANUAL_INSPECTION: ok\n",
      "MANUAL_INSPECTION: wait\n",
      "---PROCESS 44 COMPLETED---\n",
      "CONVEYOR1: input\n",
      "CONVEYOR1: to_next_step\n",
      "MANUAL_INSPECTION: input\n",
      "MANUAL_INSPECTION: process\n",
      "MANUAL_INSPECTION: ok\n",
      "MANUAL_INSPECTION: wait\n",
      "---PROCESS 45 COMPLETED---\n",
      "CONVEYOR1: input\n",
      "CONVEYOR1: to_next_step\n",
      "MANUAL_INSPECTION: input\n",
      "MANUAL_INSPECTION: process\n",
      "MANUAL_INSPECTION: ok\n",
      "MANUAL_INSPECTION: wait\n",
      "---PROCESS 46 COMPLETED---\n",
      "CONVEYOR1: input\n",
      "CONVEYOR1: to_next_step\n",
      "MANUAL_INSPECTION: input\n",
      "MANUAL_INSPECTION: process\n",
      "MANUAL_INSPECTION: ok\n",
      "MANUAL_INSPECTION: wait\n",
      "---PROCESS 47 COMPLETED---\n",
      "CONVEYOR1: input\n",
      "CONVEYOR1: to_next_step\n",
      "MANUAL_INSPECTION: input\n",
      "MANUAL_INSPECTION: process\n",
      "MANUAL_INSPECTION: ok\n",
      "MANUAL_INSPECTION: wait\n",
      "---PROCESS 48 COMPLETED---\n",
      "CONVEYOR1: input\n",
      "CONVEYOR1: to_next_step\n",
      "MANUAL_INSPECTION: input\n",
      "MANUAL_INSPECTION: process\n",
      "MANUAL_INSPECTION: ok\n",
      "MANUAL_INSPECTION: wait\n",
      "---PROCESS 49 COMPLETED---\n",
      "CONVEYOR1: input\n",
      "CONVEYOR1: to_next_step\n",
      "MANUAL_INSPECTION: input\n",
      "MANUAL_INSPECTION: process\n",
      "MANUAL_INSPECTION: ok\n",
      "MANUAL_INSPECTION: wait\n",
      "---PROCESS 50 COMPLETED---\n",
      "CONVEYOR1: input\n",
      "CONVEYOR1: to_next_step\n",
      "MANUAL_INSPECTION: input\n",
      "MANUAL_INSPECTION: process\n",
      "MANUAL_INSPECTION: ok\n",
      "MANUAL_INSPECTION: wait\n",
      "---PROCESS 51 COMPLETED---\n",
      "CONVEYOR1: input\n",
      "CONVEYOR1: to_next_step\n",
      "MANUAL_INSPECTION: input\n",
      "MANUAL_INSPECTION: process\n",
      "MANUAL_INSPECTION: ok\n",
      "MANUAL_INSPECTION: wait\n",
      "---PROCESS 52 COMPLETED---\n",
      "CONVEYOR1: input\n",
      "CONVEYOR1: to_next_step\n",
      "MANUAL_INSPECTION: input\n",
      "MANUAL_INSPECTION: process\n",
      "MANUAL_INSPECTION: ok\n",
      "MANUAL_INSPECTION: wait\n",
      "---PROCESS 53 COMPLETED---\n",
      "CONVEYOR1: input\n",
      "CONVEYOR1: to_next_step\n",
      "MANUAL_INSPECTION: input\n",
      "MANUAL_INSPECTION: process\n",
      "MANUAL_INSPECTION: ok\n",
      "MANUAL_INSPECTION: wait\n",
      "---PROCESS 54 COMPLETED---\n",
      "CONVEYOR1: input\n",
      "CONVEYOR1: to_next_step\n",
      "MANUAL_INSPECTION: input\n",
      "MANUAL_INSPECTION: process\n",
      "MANUAL_INSPECTION: ok\n",
      "MANUAL_INSPECTION: wait\n",
      "---PROCESS 55 COMPLETED---\n",
      "CONVEYOR1: input\n",
      "CONVEYOR1: to_next_step\n",
      "MANUAL_INSPECTION: input\n",
      "MANUAL_INSPECTION: process\n",
      "MANUAL_INSPECTION: ok\n",
      "MANUAL_INSPECTION: wait\n",
      "---PROCESS 56 COMPLETED---\n",
      "CONVEYOR1: input\n",
      "CONVEYOR1: to_next_step\n",
      "MANUAL_INSPECTION: input\n",
      "MANUAL_INSPECTION: process\n",
      "MANUAL_INSPECTION: ok\n",
      "MANUAL_INSPECTION: wait\n",
      "---PROCESS 57 COMPLETED---\n",
      "CONVEYOR1: input\n",
      "CONVEYOR1: to_next_step\n",
      "MANUAL_INSPECTION: input\n",
      "MANUAL_INSPECTION: process\n",
      "MANUAL_INSPECTION: ok\n",
      "MANUAL_INSPECTION: wait\n",
      "---PROCESS 58 COMPLETED---\n",
      "CONVEYOR1: input\n",
      "CONVEYOR1: to_next_step\n",
      "MANUAL_INSPECTION: input\n",
      "MANUAL_INSPECTION: process\n",
      "MANUAL_INSPECTION: ok\n",
      "MANUAL_INSPECTION: wait\n",
      "---PROCESS 59 COMPLETED---\n",
      "CONVEYOR1: input\n",
      "CONVEYOR1: to_next_step\n",
      "MANUAL_INSPECTION: input\n",
      "MANUAL_INSPECTION: process\n",
      "MANUAL_INSPECTION: ok\n",
      "MANUAL_INSPECTION: wait\n",
      "---PROCESS 60 COMPLETED---\n",
      "CONVEYOR1: input\n",
      "CONVEYOR1: to_next_step\n",
      "MANUAL_INSPECTION: input\n",
      "MANUAL_INSPECTION: process\n",
      "MANUAL_INSPECTION: ok\n",
      "MANUAL_INSPECTION: wait\n",
      "---PROCESS 61 COMPLETED---\n",
      "CONVEYOR1: input\n",
      "CONVEYOR1: to_next_step\n",
      "MANUAL_INSPECTION: input\n",
      "MANUAL_INSPECTION: process\n",
      "MANUAL_INSPECTION: ok\n",
      "MANUAL_INSPECTION: wait\n",
      "---PROCESS 62 COMPLETED---\n",
      "CONVEYOR1: input\n",
      "CONVEYOR1: to_next_step\n",
      "MANUAL_INSPECTION: input\n",
      "MANUAL_INSPECTION: process\n",
      "MANUAL_INSPECTION: ok\n",
      "MANUAL_INSPECTION: wait\n",
      "---PROCESS 63 COMPLETED---\n",
      "CONVEYOR1: input\n",
      "CONVEYOR1: to_next_step\n",
      "MANUAL_INSPECTION: input\n",
      "MANUAL_INSPECTION: process\n",
      "MANUAL_INSPECTION: ok\n",
      "MANUAL_INSPECTION: wait\n",
      "---PROCESS 64 COMPLETED---\n",
      "CONVEYOR1: input\n",
      "CONVEYOR1: to_next_step\n",
      "MANUAL_INSPECTION: input\n",
      "MANUAL_INSPECTION: process\n",
      "MANUAL_INSPECTION: ok\n",
      "MANUAL_INSPECTION: wait\n",
      "---PROCESS 65 COMPLETED---\n",
      "CONVEYOR1: input\n",
      "CONVEYOR1: to_next_step\n",
      "MANUAL_INSPECTION: input\n",
      "MANUAL_INSPECTION: process\n",
      "MANUAL_INSPECTION: ok\n",
      "MANUAL_INSPECTION: wait\n",
      "---PROCESS 66 COMPLETED---\n",
      "CONVEYOR1: input\n",
      "CONVEYOR1: to_next_step\n",
      "MANUAL_INSPECTION: input\n",
      "MANUAL_INSPECTION: process\n",
      "MANUAL_INSPECTION: ok\n",
      "MANUAL_INSPECTION: wait\n",
      "---PROCESS 67 COMPLETED---\n",
      "CONVEYOR1: input\n",
      "CONVEYOR1: to_next_step\n",
      "MANUAL_INSPECTION: input\n",
      "MANUAL_INSPECTION: process\n",
      "MANUAL_INSPECTION: ok\n",
      "MANUAL_INSPECTION: wait\n",
      "---PROCESS 68 COMPLETED---\n",
      "CONVEYOR1: input\n",
      "CONVEYOR1: to_next_step\n",
      "MANUAL_INSPECTION: input\n",
      "MANUAL_INSPECTION: process\n",
      "MANUAL_INSPECTION: ok\n",
      "MANUAL_INSPECTION: wait\n",
      "---PROCESS 69 COMPLETED---\n",
      "CONVEYOR1: input\n",
      "CONVEYOR1: to_next_step\n",
      "MANUAL_INSPECTION: input\n",
      "MANUAL_INSPECTION: process\n",
      "MANUAL_INSPECTION: ok\n",
      "MANUAL_INSPECTION: wait\n",
      "---PROCESS 70 COMPLETED---\n",
      "CONVEYOR1: input\n",
      "CONVEYOR1: to_next_step\n",
      "MANUAL_INSPECTION: input\n",
      "MANUAL_INSPECTION: process\n",
      "MANUAL_INSPECTION: ok\n",
      "MANUAL_INSPECTION: wait\n",
      "---PROCESS 71 COMPLETED---\n",
      "CONVEYOR1: input\n",
      "CONVEYOR1: to_next_step\n",
      "MANUAL_INSPECTION: input\n",
      "MANUAL_INSPECTION: process\n",
      "MANUAL_INSPECTION: ok\n",
      "MANUAL_INSPECTION: wait\n",
      "---PROCESS 72 COMPLETED---\n",
      "CONVEYOR1: input\n",
      "CONVEYOR1: to_next_step\n",
      "MANUAL_INSPECTION: input\n",
      "MANUAL_INSPECTION: process\n",
      "MANUAL_INSPECTION: ok\n",
      "MANUAL_INSPECTION: wait\n",
      "---PROCESS 73 COMPLETED---\n",
      "CONVEYOR1: input\n",
      "CONVEYOR1: to_next_step\n",
      "MANUAL_INSPECTION: input\n",
      "MANUAL_INSPECTION: process\n",
      "MANUAL_INSPECTION: ok\n",
      "MANUAL_INSPECTION: wait\n",
      "---PROCESS 74 COMPLETED---\n",
      "CONVEYOR1: input\n",
      "CONVEYOR1: to_next_step\n",
      "MANUAL_INSPECTION: input\n",
      "MANUAL_INSPECTION: process\n",
      "MANUAL_INSPECTION: ok\n",
      "MANUAL_INSPECTION: wait\n",
      "---PROCESS 75 COMPLETED---\n",
      "CONVEYOR1: input\n",
      "CONVEYOR1: to_next_step\n",
      "MANUAL_INSPECTION: input\n",
      "MANUAL_INSPECTION: process\n",
      "MANUAL_INSPECTION: ok\n",
      "MANUAL_INSPECTION: wait\n",
      "---PROCESS 76 COMPLETED---\n",
      "CONVEYOR1: input\n",
      "CONVEYOR1: to_next_step\n",
      "MANUAL_INSPECTION: input\n",
      "MANUAL_INSPECTION: process\n"
     ]
    }
   ],
   "source": [
    "for i in range(0, 1000):\n",
    "    pd.step(1)"
   ]
  },
  {
   "cell_type": "code",
   "execution_count": 11,
   "metadata": {},
   "outputs": [
    {
     "data": {
      "text/plain": [
       "[]"
      ]
     },
     "execution_count": 11,
     "metadata": {},
     "output_type": "execute_result"
    }
   ],
   "source": [
    "pd.input.items"
   ]
  },
  {
   "cell_type": "code",
   "execution_count": 74,
   "metadata": {},
   "outputs": [
    {
     "data": {
      "text/plain": [
       "3042"
      ]
     },
     "execution_count": 74,
     "metadata": {},
     "output_type": "execute_result"
    }
   ],
   "source": [
    "pd.step_no"
   ]
  },
  {
   "cell_type": "code",
   "execution_count": 75,
   "metadata": {},
   "outputs": [
    {
     "data": {
      "text/plain": [
       "253"
      ]
     },
     "execution_count": 75,
     "metadata": {},
     "output_type": "execute_result"
    }
   ],
   "source": [
    "pd.process_no"
   ]
  },
  {
   "cell_type": "code",
   "execution_count": 168,
   "metadata": {},
   "outputs": [
    {
     "data": {
      "text/plain": [
       "7465"
      ]
     },
     "execution_count": 168,
     "metadata": {},
     "output_type": "execute_result"
    }
   ],
   "source": [
    "pd.env.now"
   ]
  },
  {
   "cell_type": "code",
   "execution_count": 169,
   "metadata": {},
   "outputs": [
    {
     "data": {
      "text/plain": [
       "<Timeout(5) object at 0x7f6ebca78580>"
      ]
     },
     "execution_count": 169,
     "metadata": {},
     "output_type": "execute_result"
    }
   ],
   "source": [
    "pd.env.timeout(5)."
   ]
  },
  {
   "cell_type": "code",
   "execution_count": 154,
   "metadata": {},
   "outputs": [
    {
     "data": {
      "text/plain": [
       "{'state': 1,\n",
       " 'time': 124,\n",
       " 'prod_volume_acc': 0,\n",
       " 'last_maint_time': 124,\n",
       " 'next_maint': 123}"
      ]
     },
     "execution_count": 154,
     "metadata": {},
     "output_type": "execute_result"
    }
   ],
   "source": [
    "pd.get_line_state()"
   ]
  },
  {
   "cell_type": "code",
   "execution_count": 164,
   "metadata": {},
   "outputs": [
    {
     "data": {
      "text/plain": [
       "([1, 124, 0, 124, 123, 1, 256, 124, 0, 0, 257], 1, False)"
      ]
     },
     "execution_count": 164,
     "metadata": {},
     "output_type": "execute_result"
    }
   ],
   "source": [
    "pd.step(1)"
   ]
  },
  {
   "cell_type": "code",
   "execution_count": 16,
   "metadata": {},
   "outputs": [
    {
     "data": {
      "text/plain": [
       "{'CONVEYOR1': {'state': 1, 'run_acc': 166, 'last_repair': 48, 'anomaly': 0},\n",
       " 'hidden states': {'accumulated_wear': 65},\n",
       " 'MANUAL_INSPECTION': {'state': 1, 'run_acc': 166}}"
      ]
     },
     "execution_count": 16,
     "metadata": {},
     "output_type": "execute_result"
    }
   ],
   "source": [
    "pd.get_resource_states()"
   ]
  },
  {
   "cell_type": "code",
   "execution_count": 11,
   "metadata": {},
   "outputs": [
    {
     "data": {
      "text/plain": [
       "dict_items([('accumulated_wear', 65)])"
      ]
     },
     "execution_count": 11,
     "metadata": {},
     "output_type": "execute_result"
    }
   ],
   "source": [
    "pd.get_resource_states()['hidden states'].items()"
   ]
  },
  {
   "cell_type": "code",
   "execution_count": 6,
   "metadata": {},
   "outputs": [
    {
     "data": {
      "text/plain": [
       "7"
      ]
     },
     "execution_count": 6,
     "metadata": {},
     "output_type": "execute_result"
    }
   ],
   "source": [
    "pd.action_size"
   ]
  },
  {
   "cell_type": "code",
   "execution_count": 28,
   "metadata": {},
   "outputs": [
    {
     "data": {
      "text/plain": [
       "11"
      ]
     },
     "execution_count": 28,
     "metadata": {},
     "output_type": "execute_result"
    }
   ],
   "source": [
    "len(pd.get_observation())"
   ]
  },
  {
   "cell_type": "code",
   "execution_count": 45,
   "metadata": {},
   "outputs": [
    {
     "name": "stdout",
     "output_type": "stream",
     "text": [
      "Tick\n"
     ]
    }
   ],
   "source": [
    "pd.env.step()"
   ]
  }
 ],
 "metadata": {
  "kernelspec": {
   "display_name": "Python 3.10.4 64-bit",
   "language": "python",
   "name": "python3"
  },
  "language_info": {
   "codemirror_mode": {
    "name": "ipython",
    "version": 3
   },
   "file_extension": ".py",
   "mimetype": "text/x-python",
   "name": "python",
   "nbconvert_exporter": "python",
   "pygments_lexer": "ipython3",
   "version": "3.10.4"
  },
  "orig_nbformat": 4,
  "vscode": {
   "interpreter": {
    "hash": "3ad933181bd8a04b432d3370b9dc3b0662ad032c4dfaa4e4f1596c548f763858"
   }
  }
 },
 "nbformat": 4,
 "nbformat_minor": 2
}
