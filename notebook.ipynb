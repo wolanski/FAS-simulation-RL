{
 "cells": [
  {
   "cell_type": "code",
   "execution_count": 1,
   "metadata": {},
   "outputs": [],
   "source": [
    "from modules.process.production_line import ProductionLine\n",
    "pd = ProductionLine()"
   ]
  },
  {
   "cell_type": "code",
   "execution_count": 2,
   "metadata": {},
   "outputs": [
    {
     "data": {
      "text/plain": [
       "[0,\n",
       " 0,\n",
       " 0,\n",
       " 300,\n",
       " 0,\n",
       " 0,\n",
       " 0,\n",
       " 0,\n",
       " 0,\n",
       " 0,\n",
       " 0,\n",
       " 0,\n",
       " 0,\n",
       " 0,\n",
       " 0,\n",
       " 0,\n",
       " 0,\n",
       " 0,\n",
       " 0,\n",
       " 0,\n",
       " 0,\n",
       " 0,\n",
       " 0,\n",
       " 0,\n",
       " 0,\n",
       " 0,\n",
       " 0,\n",
       " 0,\n",
       " 0,\n",
       " 0,\n",
       " 0,\n",
       " 0,\n",
       " 0,\n",
       " 0,\n",
       " 0,\n",
       " 0,\n",
       " 0,\n",
       " 0,\n",
       " 0,\n",
       " 0,\n",
       " 0,\n",
       " 0,\n",
       " 0,\n",
       " 0,\n",
       " 0,\n",
       " 0,\n",
       " 0,\n",
       " 0,\n",
       " 0,\n",
       " 0,\n",
       " 0,\n",
       " 0,\n",
       " 0,\n",
       " 0,\n",
       " 0,\n",
       " 0,\n",
       " 0,\n",
       " 0,\n",
       " 0,\n",
       " 0,\n",
       " 0,\n",
       " 0,\n",
       " 0,\n",
       " 0,\n",
       " 0,\n",
       " 0,\n",
       " 0,\n",
       " 0,\n",
       " 0,\n",
       " 0]"
      ]
     },
     "execution_count": 2,
     "metadata": {},
     "output_type": "execute_result"
    }
   ],
   "source": [
    "pd.reset()"
   ]
  },
  {
   "cell_type": "code",
   "execution_count": 3,
   "metadata": {},
   "outputs": [
    {
     "name": "stdout",
     "output_type": "stream",
     "text": [
      "Tick\n"
     ]
    },
    {
     "data": {
      "text/plain": [
       "([0,\n",
       "  0,\n",
       "  0,\n",
       "  300,\n",
       "  0,\n",
       "  0,\n",
       "  0,\n",
       "  0,\n",
       "  0,\n",
       "  0,\n",
       "  0,\n",
       "  0,\n",
       "  0,\n",
       "  0,\n",
       "  0,\n",
       "  0,\n",
       "  0,\n",
       "  0,\n",
       "  0,\n",
       "  0,\n",
       "  0,\n",
       "  0,\n",
       "  0,\n",
       "  0,\n",
       "  0,\n",
       "  0,\n",
       "  0,\n",
       "  0,\n",
       "  0,\n",
       "  0,\n",
       "  0,\n",
       "  0,\n",
       "  0,\n",
       "  0,\n",
       "  0,\n",
       "  0,\n",
       "  0,\n",
       "  0,\n",
       "  0,\n",
       "  0,\n",
       "  0,\n",
       "  0,\n",
       "  0,\n",
       "  0,\n",
       "  0,\n",
       "  0,\n",
       "  0,\n",
       "  0,\n",
       "  0,\n",
       "  0,\n",
       "  0,\n",
       "  0,\n",
       "  0,\n",
       "  0,\n",
       "  0,\n",
       "  0,\n",
       "  0,\n",
       "  0,\n",
       "  0,\n",
       "  0,\n",
       "  0,\n",
       "  0,\n",
       "  0,\n",
       "  0,\n",
       "  0,\n",
       "  0,\n",
       "  0,\n",
       "  0,\n",
       "  0,\n",
       "  0],\n",
       " 0,\n",
       " False)"
      ]
     },
     "execution_count": 3,
     "metadata": {},
     "output_type": "execute_result"
    }
   ],
   "source": [
    "pd.step()"
   ]
  },
  {
   "cell_type": "code",
   "execution_count": 3,
   "metadata": {},
   "outputs": [
    {
     "data": {
      "text/plain": [
       "0"
      ]
     },
     "execution_count": 3,
     "metadata": {},
     "output_type": "execute_result"
    }
   ],
   "source": [
    "pd.env.now"
   ]
  },
  {
   "cell_type": "code",
   "execution_count": 4,
   "metadata": {},
   "outputs": [
    {
     "data": {
      "text/plain": [
       "{'status': 0,\n",
       " 'prod_volume_accum': 0,\n",
       " 'last_maintannance': 0,\n",
       " 'next_maintannance': 300}"
      ]
     },
     "execution_count": 4,
     "metadata": {},
     "output_type": "execute_result"
    }
   ],
   "source": [
    "pd.get_line_state()"
   ]
  },
  {
   "cell_type": "code",
   "execution_count": 5,
   "metadata": {},
   "outputs": [
    {
     "data": {
      "text/plain": [
       "{'CONVEYOR1': {'status': 0, 'run_acc': 0, 'fault': 0},\n",
       " 'CONVEYOR2': {'status': 0, 'run_acc': 0, 'fault': 0},\n",
       " 'CONVEYOR3': {'status': 0, 'run_acc': 0, 'fault': 0},\n",
       " 'CONVEYOR4': {'status': 0, 'run_acc': 0, 'fault': 0},\n",
       " 'CONVEYOR5': {'status': 0, 'run_acc': 0, 'fault': 0},\n",
       " 'CONVEYOR6': {'status': 0, 'run_acc': 0, 'fault': 0},\n",
       " 'CONVEYOR7': {'status': 0, 'run_acc': 0, 'fault': 0},\n",
       " 'CONVEYOR8': {'status': 0, 'run_acc': 0, 'fault': 0},\n",
       " 'CONVEYOR9': {'status': 0, 'run_acc': 0, 'fault': 0},\n",
       " 'CONVEYOR10': {'status': 0, 'run_acc': 0, 'fault': 0},\n",
       " 'CONVEYOR11': {'status': 0, 'run_acc': 0, 'fault': 0},\n",
       " 'CONVEYOR_INPUT_SUBASSEMBLY_B': {'status': 0, 'run_acc': 0, 'fault': 0},\n",
       " 'CONVEYOR_INPUT_SUBASSEMBLY_C': {'status': 0, 'run_acc': 0, 'fault': 0},\n",
       " 'BOWL1': {'status': 0, 'run_acc': 0, 'fault': 0},\n",
       " 'BOWL2': {'status': 0, 'run_acc': 0, 'fault': 0},\n",
       " 'BOWL3': {'status': 0, 'run_acc': 0, 'fault': 0},\n",
       " 'BOWL4': {'status': 0, 'run_acc': 0, 'fault': 0},\n",
       " 'CRANE1': {'status': 0, 'run_acc': 0},\n",
       " 'CRANE_INPUT_SUBASSEMBLY_A': {'status': 0, 'run_acc': 0},\n",
       " 'MANUAL_INSPECTION': {'status': 0},\n",
       " 'MANUAL_ADD_COMPONENTS1': {'status': 0},\n",
       " 'MANUAL_ADD_COMPONENTS2': {'status': 0},\n",
       " 'MANUAL_COMBINE_SUBASSEMBLY_A': {'status': 0},\n",
       " 'MANUAL_COMBINE_SUBASSEMBLY_B': {'status': 0},\n",
       " 'MANUAL_ADD_COVER_AND_BOLTS': {'status': 0},\n",
       " 'MANUAL_TIGHTEN_BOLTS1': {'status': 0},\n",
       " 'MANUAL_COMBINE_SUBASSEMBLY_C': {'status': 0},\n",
       " 'MANUAL_TIGHTEN_BOLTS2': {'status': 0},\n",
       " 'MANUAL_ADD_COMPONENTS3': {'status': 0},\n",
       " 'MANUAL_TIGHTEN_BOLTS3': {'status': 0}}"
      ]
     },
     "execution_count": 5,
     "metadata": {},
     "output_type": "execute_result"
    }
   ],
   "source": [
    "pd.get_resource_states()"
   ]
  },
  {
   "cell_type": "code",
   "execution_count": null,
   "metadata": {},
   "outputs": [],
   "source": [
    "pd.observation_size"
   ]
  },
  {
   "cell_type": "code",
   "execution_count": null,
   "metadata": {},
   "outputs": [],
   "source": []
  }
 ],
 "metadata": {
  "kernelspec": {
   "display_name": "Python 3.10.4 64-bit",
   "language": "python",
   "name": "python3"
  },
  "language_info": {
   "codemirror_mode": {
    "name": "ipython",
    "version": 3
   },
   "file_extension": ".py",
   "mimetype": "text/x-python",
   "name": "python",
   "nbconvert_exporter": "python",
   "pygments_lexer": "ipython3",
   "version": "3.10.4"
  },
  "orig_nbformat": 4,
  "vscode": {
   "interpreter": {
    "hash": "3ad933181bd8a04b432d3370b9dc3b0662ad032c4dfaa4e4f1596c548f763858"
   }
  }
 },
 "nbformat": 4,
 "nbformat_minor": 2
}
