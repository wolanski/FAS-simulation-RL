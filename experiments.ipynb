{
 "cells": [
  {
   "cell_type": "code",
   "execution_count": 1,
   "metadata": {},
   "outputs": [],
   "source": [
    "from modules.rl_agents import main"
   ]
  },
  {
   "cell_type": "code",
   "execution_count": 2,
   "metadata": {},
   "outputs": [
    {
     "name": "stdout",
     "output_type": "stream",
     "text": [
      "Episode: 1, Exploration:  1.000, Average reward: -94.5, Total reward: -1361484.0, Steps: 4935, Processes: 391, Env time: 14963\n",
      "Episode: 2, Exploration:  0.072, Average reward: -27.4, Total reward: -395197.0, Steps: 7691, Processes: 494, Env time: 14409\n",
      "Episode: 3, Exploration:  0.010, Average reward: -9.8, Total reward: -141756.0, Steps: 6800, Processes: 455, Env time: 14401\n",
      "Episode: 4, Exploration:  0.010, Average reward: -27.8, Total reward: -400318.0, Steps: 9349, Processes: 454, Env time: 14401\n",
      "Episode: 5, Exploration:  0.010, Average reward: -11.9, Total reward: -171331.0, Steps: 4973, Processes: 413, Env time: 14409\n",
      "Episode: 6, Exploration:  0.010, Average reward: -9.5, Total reward: -137472.0, Steps: 4973, Processes: 413, Env time: 14418\n",
      "Episode: 7, Exploration:  0.010, Average reward: -5.8, Total reward: -83389.0, Steps: 4909, Processes: 408, Env time: 15434\n",
      "Episode: 8, Exploration:  0.010, Average reward: -0.7, Total reward: -9919.0, Steps: 5970, Processes: 496, Env time: 14411\n",
      "Episode: 9, Exploration:  0.010, Average reward: -0.2, Total reward: -3584.0, Steps: 5477, Processes: 455, Env time: 14409\n",
      "Episode: 10, Exploration:  0.010, Average reward: -0.1, Total reward: -1572.0, Steps: 5867, Processes: 488, Env time: 15335\n",
      "Episode: 11, Exploration:  0.010, Average reward: -0.2, Total reward: -3115.0, Steps: 4992, Processes: 415, Env time: 14428\n",
      "Episode: 12, Exploration:  0.010, Average reward:  0.0, Total reward: 619.0, Steps: 5463, Processes: 454, Env time: 14407\n",
      "Episode: 13, Exploration:  0.010, Average reward:  0.2, Total reward: 2424.0, Steps: 5471, Processes: 455, Env time: 14403\n",
      "Episode: 14, Exploration:  0.010, Average reward:  0.3, Total reward: 4452.0, Steps: 5458, Processes: 454, Env time: 14405\n"
     ]
    }
   ],
   "source": [
    "last_run = main.ddqn_main()"
   ]
  }
 ],
 "metadata": {
  "kernelspec": {
   "display_name": "Python 3.10.4 64-bit",
   "language": "python",
   "name": "python3"
  },
  "language_info": {
   "codemirror_mode": {
    "name": "ipython",
    "version": 3
   },
   "file_extension": ".py",
   "mimetype": "text/x-python",
   "name": "python",
   "nbconvert_exporter": "python",
   "pygments_lexer": "ipython3",
   "version": "3.10.4"
  },
  "orig_nbformat": 4,
  "vscode": {
   "interpreter": {
    "hash": "3ad933181bd8a04b432d3370b9dc3b0662ad032c4dfaa4e4f1596c548f763858"
   }
  }
 },
 "nbformat": 4,
 "nbformat_minor": 2
}
